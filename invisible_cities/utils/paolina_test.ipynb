{
 "cells": [
  {
   "cell_type": "markdown",
   "metadata": {},
   "source": [
    "# Testing Paolina\n",
    "\n",
    "Tests Paolina functionality starting from PMaps."
   ]
  },
  {
   "cell_type": "code",
   "execution_count": 1,
   "metadata": {
    "collapsed": true
   },
   "outputs": [],
   "source": [
    "%matplotlib inline\n",
    "\n",
    "import os\n",
    "import sys\n",
    "import random\n",
    "import tables as tb\n",
    "import numpy  as np\n",
    "\n",
    "import matplotlib as mpl\n",
    "import matplotlib.pyplot as plt\n",
    "from matplotlib.patches import Ellipse\n",
    "from mpl_toolkits.mplot3d import Axes3D\n",
    "from collections import namedtuple\n",
    "\n",
    "from   invisible_cities.database import load_db\n",
    "from   invisible_cities.core.exceptions import SipmEmptyList\n",
    "from   invisible_cities.core.exceptions import SipmZeroCharge\n",
    "\n",
    "import invisible_cities.reco.peak_functions as pf\n",
    "from   invisible_cities.reco                import pmaps_functions  as pmp\n",
    "from   invisible_cities.reco.pmaps_functions   import load_pmaps\n",
    "from   invisible_cities.core.system_of_units_c import units\n",
    "from   invisible_cities.reco.tbl_functions     import get_event_numbers_and_timestamps\n",
    "\n",
    "#from   invisible_cities.reco.dst_io import Hit\n",
    "from   invisible_cities.cities.paolina import Hit\n",
    "from   invisible_cities.cities.paolina import make_track_graphs\n",
    "from   invisible_cities.cities.paolina import voxelize_hits\n",
    "from   invisible_cities.cities.paolina import blob_energies\n",
    "from   invisible_cities.cities.paolina import shortest_paths\n",
    "from   invisible_cities.cities.paolina import find_extrema\n",
    "\n",
    "#from   invisible_cities.reco.paolina_functions import \\\n",
    "#            Voxel, build_voxels, calc_adj_matrix, construct_tracks, calc_dist_mat, construct_blobs"
   ]
  },
  {
   "cell_type": "markdown",
   "metadata": {},
   "source": [
    "## Reconstruction functions\n",
    "This functionality will be included in the Penthesilea branch."
   ]
  },
  {
   "cell_type": "code",
   "execution_count": 2,
   "metadata": {
    "collapsed": true
   },
   "outputs": [],
   "source": [
    "DataSiPM        = load_db.DataSiPM(0)\n",
    "data_xs         = DataSiPM.X.values\n",
    "data_ys         = DataSiPM.Y.values\n",
    "\n",
    "# histograms to be filled\n",
    "l_qsipm = []            # all SiPMs\n",
    "l_qsipm_cluster = []    # all SiPMs within any cluster\n",
    "\n",
    "l_qsipm_ccenter = []    # the cluster center charges\n",
    "l_qsipm_qcluster = []   # the cluster energies (same number of entries as l_qsipm_ccenter)\n",
    "\n",
    "nccenters = 6\n",
    "l_qsipm_iccenter = []\n",
    "for n in range(nccenters): l_qsipm_iccenter.append([])\n",
    "\n",
    "rqmin = 0; rqmax = 70        # charge minima and maxima for charge vs. radius plots\n",
    "l_q_rlm = []; l_r_rlm = []   # for SiPM charge vs. r within lm_radius\n",
    "l_q_rnlm = []; l_r_rnlm = [] # for SiPM charge vs. r within new_lm_radius\n",
    "\n",
    "Cluster = namedtuple('Cluster', 'Q pos rms Nsipm')\n",
    "\n",
    "def barycenter(pos, qs):\n",
    "    if not len(pos): raise SipmEmptyList\n",
    "    if sum(qs) == 0: raise SipmZeroCharge\n",
    "    mu  = np.average( pos           , weights=qs, axis=0)\n",
    "    std = np.average((pos - mu) ** 2, weights=qs, axis=0)\n",
    "    return Cluster(sum(qs), mu, std, len(qs))\n",
    "\n",
    "def discard_sipms(sis, pos, qs):\n",
    "    return np.delete(pos, sis, axis=0), np.delete(qs, sis)\n",
    "\n",
    "def get_nearby_sipm_inds(cs, d, pos, qs):\n",
    "    \"\"\"return indices of sipms less than d from (xc,yc)\"\"\"\n",
    "    return np.where(np.linalg.norm(pos - cs, axis=1) <= d)[0]\n",
    "\n",
    "def corona(pos, qs, Qthr           =  0 * units.pes,\n",
    "                    Qlm            =  1 * units.pes,\n",
    "                        lm_radius  = 15 * units.mm,\n",
    "                    new_lm_radius  = 25 * units.mm,\n",
    "                    msipm          =  3):\n",
    "    \"\"\"\n",
    "    corona creates a list of Clusters by\n",
    "    first , identifying a loc max (gonz wanted more precise than just max sipm)\n",
    "    second, calling barycenter to find the Cluster given by SiPMs around the max\n",
    "    third , removing (nondestructively) the sipms contributing to that Cluster\n",
    "    until there are no more local maxima\n",
    "    kwargs\n",
    "    Qthr : SiPMs with less than Qthr pes are ignored\n",
    "    Qlm  : local maxima must have a SiPM with at least T pes\n",
    "    lm_radius  : all SiPMs within lm_radius distance from the local max\n",
    "           SiPM are used (by barycenter) to compute the approximate center\n",
    "            of the local max.\n",
    "    new_lm_radius : xs,ys,qs, of SiPMs within new_lm_radius of a local max\n",
    "           are used by barycenter to compute a Cluster.\n",
    "    msipm: the minimum number of SiPMs needed to make a cluster\n",
    "    returns\n",
    "    c    : a list of Clusters\n",
    "    \"\"\"\n",
    "    c  = []\n",
    "    # Keep SiPMs with at least Qthr pes\n",
    "    above_threshold = np.where(qs >= Qthr)[0]\n",
    "    pos, qs = pos[above_threshold], qs[above_threshold]\n",
    "    \n",
    "    \n",
    "    # While there are more local maxima\n",
    "    ncenter = 0\n",
    "    while len(qs) > 0:\n",
    "        hottest_sipm = np.argmax(qs)       # SiPM with largest Q\n",
    "        if qs[hottest_sipm] < Qlm: break   # largest Q remaining is negligible\n",
    "\n",
    "        # find locmax (the baryc of charge in SiPMs less than lm_radius from hottest_sipm)\n",
    "        within_lm_radius = get_nearby_sipm_inds(pos[hottest_sipm], lm_radius, pos, qs)\n",
    "        new_local_maximum  = barycenter(pos[within_lm_radius],\n",
    "                                        qs [within_lm_radius]).pos\n",
    "        for q,p in zip(qs,pos):\n",
    "            d = np.linalg.norm(p - pos[hottest_sipm], axis=0)\n",
    "            if(d < lm_radius and q > rqmin and q < rqmax):\n",
    "                l_q_rlm.append(q)\n",
    "                l_r_rlm.append(d)\n",
    "\n",
    "        # new_lm_radius is an array of the responsive sipms less than\n",
    "        # new_lm_radius from locmax\n",
    "        within_new_lm_radius = get_nearby_sipm_inds(new_local_maximum,\n",
    "                                                    new_lm_radius, pos, qs)\n",
    "        for q,p in zip(qs,pos):\n",
    "            d = np.linalg.norm(p - new_local_maximum, axis=0)\n",
    "            if(d < new_lm_radius and q > rqmin and q < rqmax):\n",
    "                l_q_rnlm.append(q)\n",
    "                l_r_rnlm.append(d)\n",
    "\n",
    "        # if there are at least msipms within_new_lm_radius, get the barycenter\n",
    "        if len(within_new_lm_radius) >= msipm:\n",
    "            c.append(barycenter(pos[within_new_lm_radius],\n",
    "                                qs [within_new_lm_radius]))\n",
    "            for q in qs[within_new_lm_radius]: l_qsipm_cluster.append(q)\n",
    "            l_qsipm_ccenter.append(qs[hottest_sipm])\n",
    "            l_qsipm_qcluster.append(sum(qs))\n",
    "            if(ncenter < nccenters): l_qsipm_iccenter[ncenter].append(qs[hottest_sipm])\n",
    "            ncenter += 1\n",
    "\n",
    "        # delete the SiPMs contributing to this cluster\n",
    "        pos, qs = discard_sipms(within_new_lm_radius, pos, qs)\n",
    "\n",
    "    return c\n",
    "\n",
    "def compute_xy_position(si, slice_no):\n",
    "    si      = {sipm_no: sipm[slice_no] for sipm_no, sipm in si.items()} #pmp.select_si_slice(si, slice_no)\n",
    "    IDs, Qs = map(list, zip(*si.items()))\n",
    "    Qs = np.array(Qs)\n",
    "    #xs, ys  = data_xs[IDs], data_ys[IDs]\n",
    "    for q in Qs: l_qsipm.append(q)\n",
    "    pos = np.array([np.array([x,y]) for x,y in zip(data_xs[IDs],data_ys[IDs])])\n",
    "    return corona(pos, Qs)\n",
    "\n",
    "def split_energy(e, clusters):\n",
    "    if len(clusters) == 1:\n",
    "        return [e]\n",
    "    qs = np.array([c.Q for c in clusters])\n",
    "    return e * qs / np.sum(qs)"
   ]
  },
  {
   "cell_type": "markdown",
   "metadata": {},
   "source": [
    "## Read the PMaps and construct the hit collection for a given event\n",
    "This will be performed in the future by Penthesilea."
   ]
  },
  {
   "cell_type": "code",
   "execution_count": 3,
   "metadata": {
    "collapsed": true
   },
   "outputs": [],
   "source": [
    "# S1 cuts\n",
    "S1_Emin =    10;   S1_Emax =    10000\n",
    "S1_Lmin =     1;   S1_Lmax =       20\n",
    "S1_Hmin =     1;   S1_Hmax =    10000\n",
    "S1_Ethr =   0.5;\n",
    "\n",
    "# S2 cuts\n",
    "S2_Emin =  1000;   S2_Emax =  1000000\n",
    "S2_Lmin =     5;   S2_Lmax =      100\n",
    "S2_Hmin =   100;   S2_Hmax =   100000\n",
    "S2_Ethr =     1;\n",
    "S2_Nmin =     1;   S2_Nmax =        1\n",
    "S2_NSIPMmin = 1;   S2_NSIPMmax = 1000\n",
    "\n",
    "# event index and information\n",
    "ievt = 3"
   ]
  },
  {
   "cell_type": "code",
   "execution_count": 4,
   "metadata": {},
   "outputs": [
    {
     "name": "stdout",
     "output_type": "stream",
     "text": [
      "File 0 of 1...\n",
      "Produced hit collections for 55 events.\n"
     ]
    }
   ],
   "source": [
    "hitc_evt = []\n",
    "nfiles = 1\n",
    "print_cut = False\n",
    "\n",
    "for ifile in range(nfiles):\n",
    "    \n",
    "    print(\"File {0} of {1}...\".format(ifile,nfiles))\n",
    "\n",
    "    if(ifile < 10): fstr = \"00{0}\".format(ifile)\n",
    "    elif(ifile < 100): fstr = \"0{0}\".format(ifile)\n",
    "    else: fstr = \"{0}\".format(ifile)\n",
    "     \n",
    "    filename = \"/Users/jrenner/IFIC/IC-1/invisible_cities/database/NEW/MC/Na/dst_NEXT_v0_08_09_Na_INTERNALPORTANODE_0_0_7bar_pmaps_10000.root.h5\"\n",
    "    #filename = \"/Users/jrenner/IFIC/IC-1/invisible_cities/database/NEW/3913/pmaps/pmaps.gdcsnext.{0}_3913.root.h5\".format(fstr)\n",
    "    try:\n",
    "        S1s, S2s, S2Sis = load_pmaps(filename)\n",
    "    except (ValueError, tb.exceptions.NoSuchNodeError):\n",
    "        print(\"Empty file. Skipping.\")\n",
    "    event_numbers, timestamps = get_event_numbers_and_timestamps(filename)\n",
    "\n",
    "    for evt_number, evt_time in zip(event_numbers,timestamps):\n",
    "\n",
    "        hitc = []\n",
    "\n",
    "        S1 = S1s  .get(evt_number, {})\n",
    "        S2 = S2s  .get(evt_number, {})\n",
    "        Si = S2Sis.get(evt_number, {})\n",
    "\n",
    "        S1 = pf.select_peaks(S1,\n",
    "                              S1_Emin, S1_Emax,\n",
    "                              S1_Lmin, S1_Lmax,\n",
    "                              S1_Hmin, S1_Hmax,\n",
    "                              S1_Ethr)\n",
    "        S2 = pf.select_peaks(S2,\n",
    "                              S2_Emin, S2_Emax,\n",
    "                              S2_Lmin, S2_Lmax,\n",
    "                              S2_Hmin, S2_Hmax,\n",
    "                              S2_Ethr)\n",
    "        Si = pf.select_Si   (Si,\n",
    "                              S2_NSIPMmin, S2_NSIPMmax)\n",
    "        valid_peaks = set(S2) & set(Si)\n",
    "        S2 = {peak_no: peak for peak_no, peak in S2.items() if peak_no in valid_peaks}\n",
    "        Si = {peak_no: peak for peak_no, peak in Si.items() if peak_no in valid_peaks}\n",
    "\n",
    "        if len(S1) != 1 or not S2_Nmin <= len(S2) <= S2_Nmax:\n",
    "            if(print_cut): print(\"Did not make cuts...\")\n",
    "        else:\n",
    "            t, e = next(iter(S1.values()))\n",
    "            S1t  = t[np.argmax(e)]\n",
    "            #S2, Si = rebin_s2(S2, Si)\n",
    "\n",
    "            npeak = 0\n",
    "            for peak_no, (t_peak, e_peak) in sorted(S2.items()):\n",
    "                si = Si[peak_no]\n",
    "                for slice_no, (t_slice, e_slice) in enumerate(zip(t_peak, e_peak)):\n",
    "                    clusters = compute_xy_position(si, slice_no)\n",
    "                    es       = split_energy(e_slice, clusters)\n",
    "                    z        = (t_slice - S1t) * units.ns * 0.001  # drift_v = 1.0\n",
    "                    for c, e in zip(clusters, es):\n",
    "                        #hit       = Hit(c.X,c.Y,z,e)\n",
    "                        hit       = Hit(c.pos[0],c.pos[1],z,e)\n",
    "                        #hit.X = c.X\n",
    "                        #hit.Y = c.Y\n",
    "                        #hit.Z = z\n",
    "                        #hit.E = e\n",
    "                        #print(\"hit at ({0},{1},{2};{3})\".format(hit.X,hit.Y,hit.Z,hit.E))\n",
    "                        #print(\"hit at ({0},{1},{2};{3})\".format(hit.pos[0],hit.pos[1],hit.pos[2],hit.E))\n",
    "                        hitc.append(hit)\n",
    "                npeak += 1\n",
    "                \n",
    "            hitc_evt.append(hitc)\n",
    "\n",
    "print(\"Produced hit collections for {0} events.\".format(len(hitc_evt)))"
   ]
  },
  {
   "cell_type": "markdown",
   "metadata": {},
   "source": [
    "## Histograms from the Corona step"
   ]
  },
  {
   "cell_type": "code",
   "execution_count": 5,
   "metadata": {},
   "outputs": [
    {
     "data": {
      "text/plain": [
       "<matplotlib.text.Text at 0x112a80e10>"
      ]
     },
     "execution_count": 5,
     "metadata": {},
     "output_type": "execute_result"
    },
    {
     "data": {
      "image/png": "[encoded data removed]",
      "text/plain": [
       "<matplotlib.figure.Figure at 0x112cc3cf8>"
      ]
     },
     "metadata": {},
     "output_type": "display_data"
    }
   ],
   "source": [
    "# total charge\n",
    "fig = plt.figure(3);\n",
    "fig.set_figheight(5.0);\n",
    "fig.set_figwidth(7.5);\n",
    "\n",
    "# charge histogram\n",
    "#ax1 = fig.add_subplot(121);\n",
    "#plt.hist(l_qsipm,bins=200)\n",
    "#ax1.set_title(\"Charge in all SiPMs in PMaps\")\n",
    "#ax1.set_xlabel(\"Charge (Q)\")\n",
    "#ax1.set_ylabel(\"Counts/bin\")\n",
    "#ax1.set_yscale(\"log\")\n",
    "\n",
    "# charge vs. cluster energy\n",
    "ax2 = fig.add_subplot(111);\n",
    "plt.scatter(l_qsipm_ccenter,l_qsipm_qcluster,marker='.',s=0.5)\n",
    "ax2.set_title(\"Central charge of cluster vs. total charge of cluster\")\n",
    "ax2.set_xlabel(\"Central charge (Q)\")\n",
    "ax2.set_ylabel(\"Cluster charge (Q)\")\n",
    "#ax1.set_yscale(\"log\")"
   ]
  },
  {
   "cell_type": "code",
   "execution_count": 6,
   "metadata": {},
   "outputs": [
    {
     "data": {
      "image/png": "[encoded data removed]",
      "text/plain": [
       "<matplotlib.figure.Figure at 0x112bd8fd0>"
      ]
     },
     "metadata": {},
     "output_type": "display_data"
    }
   ],
   "source": [
    "# cluster charges\n",
    "fig = plt.figure(3);\n",
    "fig.set_figheight(5.0);\n",
    "fig.set_figwidth(15.0);\n",
    "\n",
    "# charge histogram\n",
    "ax1 = fig.add_subplot(121);\n",
    "plt.hist(l_qsipm_cluster,bins=200)\n",
    "ax1.set_title(\"Charge in all SiPMs in clusters\")\n",
    "ax1.set_xlabel(\"Charge (Q)\")\n",
    "ax1.set_ylabel(\"Counts/bin\")\n",
    "ax1.set_yscale(\"log\")\n",
    "\n",
    "# zoomed energy spectrum\n",
    "ax2 = fig.add_subplot(122);\n",
    "#plt.hist(l_etot[((l_etot > 60000) & (l_etot < 120000))],bins=50)\n",
    "#plt.hist(l_etotcorr[((l_etotcorr > 60000) & (l_etotcorr < 120000))],bins=50)\n",
    "#plt.scatter(l_zavg,l_etotcorr,marker='.')\n",
    "#hxy, xxy, yxy = np.histogram2d(l_etotcorr[dist_cuts], l_zavg[dist_cuts], normed=False, bins=(30, 30))\n",
    "#extent1 = [yxy[0], yxy[-1], xxy[0], xxy[-1]]\n",
    "#sp1 = plt.imshow(hxy, extent=extent1, interpolation='none', aspect='auto', origin='lower', cmap='jet')\n",
    "#plt.axvline(x=Ecut_low,color='red',linestyle='--')\n",
    "#plt.axvline(x=Ecut_high,color='red',linestyle='--')\n",
    "plt.hist(l_qsipm_ccenter,bins=200)\n",
    "ax2.set_title(\"Central cluster charge\")\n",
    "ax2.set_xlabel(\"Charge (Q)\")\n",
    "ax2.set_ylabel(\"Counts/bin\")\n",
    "ax2.set_yscale(\"log\")"
   ]
  },
  {
   "cell_type": "code",
   "execution_count": 7,
   "metadata": {},
   "outputs": [
    {
     "data": {
      "text/plain": [
       "<matplotlib.text.Text at 0x1172b70f0>"
      ]
     },
     "execution_count": 7,
     "metadata": {},
     "output_type": "execute_result"
    },
    {
     "data": {
      "image/png": "[encoded data removed]",
      "text/plain": [
       "<matplotlib.figure.Figure at 0x116b71630>"
      ]
     },
     "metadata": {},
     "output_type": "display_data"
    }
   ],
   "source": [
    "# cluster charge vs. radial distance from local maxima\n",
    "fig = plt.figure(3);\n",
    "fig.set_figheight(5.0);\n",
    "fig.set_figwidth(15.0);\n",
    "\n",
    "# charge histogram\n",
    "ax1 = fig.add_subplot(121);\n",
    "#plt.scatter(l_r_rlm,l_q_rlm,marker='.')\n",
    "hxy, xxy, yxy = np.histogram2d(l_q_rlm, l_r_rlm, normed=False, bins=(50, 50))\n",
    "extent1 = [yxy[0], yxy[-1], xxy[0], xxy[-1]]\n",
    "sp1 = plt.imshow(hxy, extent=extent1, interpolation='none', aspect='auto', origin='lower', cmap='jet')\n",
    "cbp1 = plt.colorbar(sp1)\n",
    "ax1.set_title(\"SiPM charge vs. radius from initial local maximum\")\n",
    "ax1.set_xlabel(\"Radial distance (mm)\")\n",
    "ax1.set_ylabel(\"SiPM charge\")\n",
    "\n",
    "# zoomed energy spectrum\n",
    "ax2 = fig.add_subplot(122);\n",
    "#plt.hist(l_etot[((l_etot > 60000) & (l_etot < 120000))],bins=50)\n",
    "#plt.hist(l_etotcorr[((l_etotcorr > 60000) & (l_etotcorr < 120000))],bins=50)\n",
    "#plt.scatter(l_zavg,l_etotcorr,marker='.')\n",
    "hxy, xxy, yxy = np.histogram2d(l_q_rnlm, l_r_rnlm, normed=False, bins=(50, 50))\n",
    "extent1 = [yxy[0], yxy[-1], xxy[0], xxy[-1]]\n",
    "sp2 = plt.imshow(hxy, extent=extent1, interpolation='none', aspect='auto', origin='lower', cmap='jet')\n",
    "cbp2 = plt.colorbar(sp2)\n",
    "#plt.axvline(x=Ecut_low,color='red',linestyle='--')\n",
    "#plt.axvline(x=Ecut_high,color='red',linestyle='--')\n",
    "#plt.scatter(l_r_rnlm,l_q_rnlm,marker='.')\n",
    "ax2.set_title(\"SiPM charge vs. radius from second local maximum\")\n",
    "ax2.set_xlabel(\"Radial distance (mm)\")\n",
    "ax2.set_ylabel(\"SiPM charge\")"
   ]
  },
  {
   "cell_type": "code",
   "execution_count": 8,
   "metadata": {},
   "outputs": [
    {
     "name": "stdout",
     "output_type": "stream",
     "text": [
      "1103 entries for cluster 0\n",
      "163 entries for cluster 1\n",
      "19 entries for cluster 2\n"
     ]
    },
    {
     "name": "stderr",
     "output_type": "stream",
     "text": [
      "/Users/jrenner/anaconda3/envs/IC3.6/lib/python3.6/site-packages/matplotlib/axes/_base.py:3193: UserWarning: Attempting to set identical bottom==top results\n",
      "in singular transformations; automatically expanding.\n",
      "bottom=1.0, top=1.0\n",
      "  'bottom=%s, top=%s') % (bottom, top))\n",
      "/Users/jrenner/anaconda3/envs/IC3.6/lib/python3.6/site-packages/matplotlib/ticker.py:2039: UserWarning: Data has no positive values, and therefore cannot be log-scaled.\n",
      "  \"Data has no positive values, and therefore cannot be \"\n"
     ]
    },
    {
     "name": "stdout",
     "output_type": "stream",
     "text": [
      "1 entries for cluster 3\n",
      "0 entries for cluster 4\n",
      "0 entries for cluster 5\n"
     ]
    },
    {
     "data": {
      "image/png": "[encoded data removed]",
      "text/plain": [
       "<matplotlib.figure.Figure at 0x116b68978>"
      ]
     },
     "metadata": {},
     "output_type": "display_data"
    }
   ],
   "source": [
    "# cluster charges\n",
    "fig = plt.figure(4);\n",
    "fig.set_figheight(15.0);\n",
    "fig.set_figwidth(15.0);\n",
    "\n",
    "# charge histograms for max clusters\n",
    "for n in range(nccenters):\n",
    "    splt_str = \"32{0}\".format(n+1)\n",
    "    ax1 = fig.add_subplot(splt_str);\n",
    "    plt.hist(l_qsipm_iccenter[n],bins=200)\n",
    "    ax1.set_title(\"SiPM central charge for cluster {0}\".format(n))\n",
    "    ax1.set_xlabel(\"Charge (Q)\")\n",
    "    ax1.set_ylabel(\"Counts/bin\")\n",
    "    ax1.set_yscale(\"log\")\n",
    "    print(\"{0} entries for cluster {1}\".format(len(l_qsipm_iccenter[n]),n))"
   ]
  },
  {
   "cell_type": "markdown",
   "metadata": {},
   "source": [
    "# Paolina analysis\n",
    "NOTE: single-event only for the moment"
   ]
  },
  {
   "cell_type": "code",
   "execution_count": 9,
   "metadata": {
    "collapsed": true
   },
   "outputs": [],
   "source": [
    "vol_min = np.array([-250, -250, -100],dtype=np.int16)  # volume minimum (x,y,z)\n",
    "vol_max = np.array([250, 250, 400],dtype=np.int16)  # volume maximum (x,y,z)\n",
    "vox_size = np.array([10, 10, 10],dtype=np.int16)    # voxel size\n",
    "blob_radius = 30.                    # blob radius in mm"
   ]
  },
  {
   "cell_type": "code",
   "execution_count": 12,
   "metadata": {},
   "outputs": [
    {
     "name": "stdout",
     "output_type": "stream",
     "text": [
      "Event 440 with total energy 22183.22573852539\n",
      "Found 1 tracks; max containing 1 voxels; total of 1 voxels\n"
     ]
    },
    {
     "ename": "ValueError",
     "evalue": "not enough values to unpack (expected 2, got 1)",
     "output_type": "error",
     "traceback": [
      "\u001b[0;31m---------------------------------------------------------------------------\u001b[0m",
      "\u001b[0;31mValueError\u001b[0m                                Traceback (most recent call last)",
      "\u001b[0;32m<ipython-input-12-dcf8d6ef0f0e>\u001b[0m in \u001b[0;36m<module>\u001b[0;34m()\u001b[0m\n\u001b[1;32m      9\u001b[0m \u001b[0mprint\u001b[0m\u001b[0;34m(\u001b[0m\u001b[0;34m\"Found {0} tracks; max containing {1} voxels; total of {2} voxels\"\u001b[0m\u001b[0;34m.\u001b[0m\u001b[0mformat\u001b[0m\u001b[0;34m(\u001b[0m\u001b[0mlen\u001b[0m\u001b[0;34m(\u001b[0m\u001b[0mtrks\u001b[0m\u001b[0;34m)\u001b[0m\u001b[0;34m,\u001b[0m\u001b[0mlen\u001b[0m\u001b[0;34m(\u001b[0m\u001b[0mtrks\u001b[0m\u001b[0;34m[\u001b[0m\u001b[0mitmax\u001b[0m\u001b[0;34m]\u001b[0m\u001b[0;34m)\u001b[0m\u001b[0;34m,\u001b[0m\u001b[0mlen\u001b[0m\u001b[0;34m(\u001b[0m\u001b[0mvoxels\u001b[0m\u001b[0;34m)\u001b[0m\u001b[0;34m)\u001b[0m\u001b[0;34m)\u001b[0m\u001b[0;34m\u001b[0m\u001b[0m\n\u001b[1;32m     10\u001b[0m \u001b[0;34m\u001b[0m\u001b[0m\n\u001b[0;32m---> 11\u001b[0;31m \u001b[0meblobs\u001b[0m \u001b[0;34m=\u001b[0m \u001b[0mblob_energies\u001b[0m\u001b[0;34m(\u001b[0m\u001b[0mtrks\u001b[0m\u001b[0;34m[\u001b[0m\u001b[0mitmax\u001b[0m\u001b[0;34m]\u001b[0m\u001b[0;34m,\u001b[0m\u001b[0mblob_radius\u001b[0m\u001b[0;34m)\u001b[0m\u001b[0;34m\u001b[0m\u001b[0m\n\u001b[0m\u001b[1;32m     12\u001b[0m \u001b[0miter_eblobs\u001b[0m \u001b[0;34m=\u001b[0m \u001b[0miter\u001b[0m\u001b[0;34m(\u001b[0m\u001b[0meblobs\u001b[0m\u001b[0;34m)\u001b[0m\u001b[0;34m\u001b[0m\u001b[0m\n\u001b[1;32m     13\u001b[0m \u001b[0mEblob1\u001b[0m\u001b[0;34m,\u001b[0m \u001b[0mEblob2\u001b[0m \u001b[0;34m=\u001b[0m \u001b[0mnext\u001b[0m\u001b[0;34m(\u001b[0m\u001b[0miter_eblobs\u001b[0m\u001b[0;34m)\u001b[0m\u001b[0;34m,\u001b[0m\u001b[0mnext\u001b[0m\u001b[0;34m(\u001b[0m\u001b[0miter_eblobs\u001b[0m\u001b[0;34m)\u001b[0m\u001b[0;34m\u001b[0m\u001b[0m\n",
      "\u001b[0;32m/Users/jrenner/IFIC/IC-1/invisible_cities/cities/paolina.py\u001b[0m in \u001b[0;36mblob_energies\u001b[0;34m(track_graph, radius)\u001b[0m\n\u001b[1;32m    102\u001b[0m \u001b[0;32mdef\u001b[0m \u001b[0mblob_energies\u001b[0m\u001b[0;34m(\u001b[0m\u001b[0mtrack_graph\u001b[0m\u001b[0;34m,\u001b[0m \u001b[0mradius\u001b[0m\u001b[0;34m)\u001b[0m\u001b[0;34m:\u001b[0m\u001b[0;34m\u001b[0m\u001b[0m\n\u001b[1;32m    103\u001b[0m     \u001b[0mdistances\u001b[0m \u001b[0;34m=\u001b[0m \u001b[0mshortest_paths\u001b[0m\u001b[0;34m(\u001b[0m\u001b[0mtrack_graph\u001b[0m\u001b[0;34m)\u001b[0m\u001b[0;34m\u001b[0m\u001b[0m\n\u001b[0;32m--> 104\u001b[0;31m     \u001b[0ma\u001b[0m\u001b[0;34m,\u001b[0m\u001b[0mb\u001b[0m \u001b[0;34m=\u001b[0m \u001b[0mfind_extrema\u001b[0m\u001b[0;34m(\u001b[0m\u001b[0mdistances\u001b[0m\u001b[0;34m)\u001b[0m\u001b[0;34m\u001b[0m\u001b[0m\n\u001b[0m\u001b[1;32m    105\u001b[0m     \u001b[0mEa\u001b[0m \u001b[0;34m=\u001b[0m \u001b[0menergy_within_radius\u001b[0m\u001b[0;34m(\u001b[0m\u001b[0mdistances\u001b[0m\u001b[0;34m[\u001b[0m\u001b[0ma\u001b[0m\u001b[0;34m]\u001b[0m\u001b[0;34m,\u001b[0m \u001b[0mradius\u001b[0m\u001b[0;34m)\u001b[0m\u001b[0;34m\u001b[0m\u001b[0m\n\u001b[1;32m    106\u001b[0m     \u001b[0mEb\u001b[0m \u001b[0;34m=\u001b[0m \u001b[0menergy_within_radius\u001b[0m\u001b[0;34m(\u001b[0m\u001b[0mdistances\u001b[0m\u001b[0;34m[\u001b[0m\u001b[0mb\u001b[0m\u001b[0;34m]\u001b[0m\u001b[0;34m,\u001b[0m \u001b[0mradius\u001b[0m\u001b[0;34m)\u001b[0m\u001b[0;34m\u001b[0m\u001b[0m\n",
      "\u001b[0;31mValueError\u001b[0m: not enough values to unpack (expected 2, got 1)"
     ]
    }
   ],
   "source": [
    "nevt = 0\n",
    "hitc = hitc_evt[nevt]\n",
    "evt_E = sum([hh.E for hh in hitc])\n",
    "print(\"Event {0} with total energy {1}\".format(evt_number,evt_E))\n",
    "\n",
    "voxels = voxelize_hits(hitc,vox_size)\n",
    "trks = make_track_graphs(voxels,vox_size)\n",
    "itmax = np.argmax([len(t) for t in trks])\n",
    "print(\"Found {0} tracks; max containing {1} voxels; total of {2} voxels\".format(len(trks),len(trks[itmax]),len(voxels)))\n",
    "\n",
    "eblobs = blob_energies(trks[itmax],blob_radius)\n",
    "iter_eblobs = iter(eblobs)\n",
    "Eblob1, Eblob2 = next(iter_eblobs),next(iter_eblobs)\n",
    "\n",
    "# get the extremes\n",
    "distances = shortest_paths(trks[itmax])\n",
    "a,b = find_extrema(distances)\n",
    "\n",
    "# plot the voxelized tracks\n",
    "# 2D histogram\n",
    "fig = plt.figure(3);\n",
    "fig.set_figheight(5.0);\n",
    "fig.set_figwidth(20.0);\n",
    "\n",
    "varr_x = []; varr_y = []; varr_z = []; varr_c = []\n",
    "for vv in trks[itmax]:\n",
    "#for vv in voxels:\n",
    "    varr_x.append(vv.pos[0])\n",
    "    varr_y.append(vv.pos[1])\n",
    "    varr_z.append(vv.pos[2])\n",
    "    varr_c.append(vv.E)\n",
    "\n",
    "vtrk_max = 1.0*np.array([np.max(varr_x),np.max(varr_y),np.max(varr_z)])\n",
    "vtrk_min = 1.0*np.array([np.min(varr_x),np.min(varr_y),np.min(varr_z)])\n",
    "vtrk_len = np.abs(vtrk_max-vtrk_min)\n",
    "vtrk_max = vtrk_max + 1.0*vtrk_len\n",
    "vtrk_min = vtrk_min - 1.0*vtrk_len\n",
    "\n",
    "# create the x-y projection\n",
    "ax1 = fig.add_subplot(131);\n",
    "hxy, xxy, yxy = np.histogram2d(varr_y, varr_x, weights=varr_c, normed=False, bins=(1.0*(vol_max[1]-vol_min[1])/vox_size[1], 1.0*(vol_max[0]-vol_min[0])/vox_size[0]), range=[[vol_min[1],vol_max[1]],[vol_min[0],vol_max[0]]])\n",
    "extent1 = [yxy[0], yxy[-1], xxy[0], xxy[-1]]\n",
    "sp1 = ax1.imshow(hxy, extent=extent1, interpolation='none', aspect='auto', origin='lower', cmap='jet')\n",
    "ax1.set_xlabel(\"x (mm)\")\n",
    "ax1.set_ylabel(\"y (mm)\")\n",
    "ax1.set_xlim([vtrk_min[0],vtrk_max[0]])\n",
    "ax1.set_ylim([vtrk_min[1],vtrk_max[1]])\n",
    "cbp1 = plt.colorbar(sp1)\n",
    "cbp1.set_label('Energy (Q)')\n",
    "ax1.scatter(a.pos[0],a.pos[1],marker='x',s=200,color='red')\n",
    "ax1.scatter(b.pos[0],b.pos[1],marker='x',s=200,color='red')\n",
    "\n",
    "# Create the y-z projection.\n",
    "ax2 = fig.add_subplot(132);\n",
    "hyz, xyz, yyz = np.histogram2d(varr_z, varr_y, weights=varr_c, normed=False, bins=(1.0*(vol_max[2]-vol_min[2])/vox_size[2], 1.0*(vol_max[1]-vol_min[1])/vox_size[1]), range=[[vol_min[2],vol_max[2]],[vol_min[1],vol_max[1]]])\n",
    "extent2 = [yyz[0], yyz[-1], xyz[0], xyz[-1]]\n",
    "sp2 = ax2.imshow(hyz, extent=extent2, interpolation='none', aspect='auto', origin='lower', cmap='jet')\n",
    "ax2.set_xlabel(\"y (mm)\")\n",
    "ax2.set_ylabel(\"z (mm)\")\n",
    "ax2.set_xlim([vtrk_min[1],vtrk_max[1]])\n",
    "ax2.set_ylim([vtrk_min[2],vtrk_max[2]])\n",
    "cbp2 = plt.colorbar(sp2);\n",
    "cbp2.set_label('Energy (Q)');\n",
    "ax2.scatter(a.pos[1],a.pos[2],marker='x',s=200,color='red')\n",
    "ax2.scatter(b.pos[1],b.pos[2],marker='x',s=200,color='red')\n",
    "\n",
    "# Create the x-z projection.\n",
    "ax3 = fig.add_subplot(133);\n",
    "hxz, xxz, yxz = np.histogram2d(varr_z, varr_x, weights=varr_c, normed=False, bins=(1.0*(vol_max[2]-vol_min[2])/vox_size[2], 1.0*(vol_max[0]-vol_min[0])/vox_size[0]), range=[[vol_min[2],vol_max[2]],[vol_min[0],vol_max[0]]])\n",
    "extent3 = [yxz[0], yxz[-1], xxz[0], xxz[-1]]\n",
    "sp3 = ax3.imshow(hxz, extent=extent3, interpolation='none', aspect='auto', origin='lower', cmap='jet')\n",
    "ax3.set_xlabel(\"x (mm)\")\n",
    "ax3.set_ylabel(\"z (mm)\")\n",
    "ax3.set_xlim([vtrk_min[0],vtrk_max[0]])\n",
    "ax3.set_ylim([vtrk_min[2],vtrk_max[2]])\n",
    "cbp3 = plt.colorbar(sp3);\n",
    "cbp3.set_label('Energy (Q)');\n",
    "ax3.scatter(a.pos[0],a.pos[2],marker='x',s=200,color='red')\n",
    "ax3.scatter(b.pos[0],b.pos[2],marker='x',s=200,color='red')\n",
    "\n",
    "print(\"Extreme0 at ({0},{1},{2})\".format(a.pos[0],a.pos[1],a.pos[2]))\n",
    "print(\"Extreme1 at ({0},{1},{2})\".format(b.pos[0],b.pos[1],b.pos[2]))"
   ]
  },
  {
   "cell_type": "code",
   "execution_count": null,
   "metadata": {
    "collapsed": true
   },
   "outputs": [],
   "source": [
    "# plot the clusters in 3D\n",
    "carr_x = []; carr_y = []; carr_z = []; carr_c = []\n",
    "for cc in hitc:\n",
    "#for cc in trks[itmax]:\n",
    "    if(cc.E > 1):\n",
    "        carr_x.append(cc.pos[0])\n",
    "        carr_y.append(cc.pos[1])\n",
    "        carr_z.append(cc.pos[2])\n",
    "        carr_c.append(cc.E)\n",
    "    \n",
    "fig = plt.figure(1)\n",
    "fig.set_figheight(25.0)\n",
    "fig.set_figwidth(25.0)\n",
    "\n",
    "ax1 = fig.add_subplot(321, projection='3d')\n",
    "sc3d = ax1.scatter(carr_x,carr_y,carr_z,marker='s',cmap='jet',c=carr_c)\n",
    "ax1.scatter(a.pos[0],a.pos[1],a.pos[2],marker='x',s=200,color='red')\n",
    "ax1.scatter(b.pos[0],b.pos[1],b.pos[2],marker='x',s=200,color='red')\n",
    "print(\"Ext1: ({0},{1},{2})\".format(a.pos[0],a.pos[1],a.pos[2]))\n",
    "print(\"Ext2: ({0},{1},{2})\".format(b.pos[0],b.pos[1],b.pos[2]))\n",
    "xst, xen = ax1.get_xlim(); ax1.xaxis.set_ticks(np.arange(xst,xen,(xen-xst)/5.))\n",
    "yst, yen = ax1.get_ylim(); ax1.yaxis.set_ticks(np.arange(yst,yen,(yen-yst)/5.))\n",
    "zst, zen = ax1.get_zlim(); ax1.zaxis.set_ticks(np.arange(zst,zen,(zen-zst)/5.))\n",
    "ax1.set_xlabel(\"x (mm)\")\n",
    "ax1.set_ylabel(\"y (mm)\")\n",
    "ax1.set_zlabel(\"z (mm)\")\n",
    "lb_x = ax1.get_xticklabels()\n",
    "lb_y = ax1.get_yticklabels()\n",
    "lb_z = ax1.get_zticklabels()\n",
    "for lb in (lb_x + lb_y + lb_z):\n",
    "    lb.set_fontsize(8.)\n",
    "cbp1 = plt.colorbar(sc3d)\n",
    "cbp1.set_label('Energy (Q)')"
   ]
  },
  {
   "cell_type": "markdown",
   "metadata": {},
   "source": [
    "----------------\n",
    "## Old code"
   ]
  },
  {
   "cell_type": "code",
   "execution_count": null,
   "metadata": {
    "collapsed": true
   },
   "outputs": [],
   "source": [
    "# old Paolina method\n",
    "evt_E = sum([hh.E for hh in hitc])\n",
    "print(\"Event {0} with total energy {1}\".format(evt_number,evt_E))\n",
    "\n",
    "voxelc = build_voxels(hitc,vol_min,vol_max,vox_size)\n",
    "adj_mat = calc_adj_matrix(voxelc)\n",
    "itmax,trks = construct_tracks(voxelc,adj_mat)\n",
    "dist_mat, spath = calc_dist_mat(trks[itmax])\n",
    "Eblob1, Eblob2 = construct_blobs(trks[itmax],dist_mat,spath,blob_radius)\n",
    "print(\"Found {0} tracks; max containing {1} voxels; total voxels {2}\".format(len(trks),len(trks[itmax]),len(voxelc)))\n",
    "\n",
    "# plot the voxelized tracks\n",
    "# 2D histogram\n",
    "fig = plt.figure(3);\n",
    "fig.set_figheight(5.0);\n",
    "fig.set_figwidth(20.0);\n",
    "\n",
    "varr_x = []; varr_y = []; varr_z = []; varr_c = []\n",
    "for vv in trks[itmax]:\n",
    "#for vv in voxelc:\n",
    "    varr_x.append(vv.X)\n",
    "    varr_y.append(vv.Y)\n",
    "    varr_z.append(vv.Z)\n",
    "    varr_c.append(vv.E)\n",
    "\n",
    "vtrk_max = 1.0*np.array([np.max(varr_x),np.max(varr_y),np.max(varr_z)])\n",
    "vtrk_min = 1.0*np.array([np.min(varr_x),np.min(varr_y),np.min(varr_z)])\n",
    "vtrk_len = np.abs(vtrk_max-vtrk_min)\n",
    "vtrk_max = vtrk_max + 1.0*vtrk_len\n",
    "vtrk_min = vtrk_min - 1.0*vtrk_len\n",
    "\n",
    "# create the x-y projection\n",
    "ax1 = fig.add_subplot(131);\n",
    "hxy, xxy, yxy = np.histogram2d(varr_y, varr_x, weights=varr_c, normed=False, bins=(1.0*(vol_max[1]-vol_min[1])/vox_size[1], 1.0*(vol_max[0]-vol_min[0])/vox_size[0]), range=[[vol_min[1],vol_max[1]],[vol_min[0],vol_max[0]]])\n",
    "extent1 = [yxy[0], yxy[-1], xxy[0], xxy[-1]]\n",
    "sp1 = ax1.imshow(hxy, extent=extent1, interpolation='none', aspect='auto', origin='lower', cmap='jet')\n",
    "ax1.set_xlabel(\"x (mm)\")\n",
    "ax1.set_ylabel(\"y (mm)\")\n",
    "ax1.set_xlim([vtrk_min[0],vtrk_max[0]])\n",
    "ax1.set_ylim([vtrk_min[1],vtrk_max[1]])\n",
    "cbp1 = plt.colorbar(sp1)\n",
    "cbp1.set_label('Energy (Q)')\n",
    "ax1.scatter(spath[0].X,spath[0].Y,marker='x',s=200,color='red')\n",
    "ax1.scatter(spath[-1].X,spath[-1].Y,marker='x',s=200,color='red')\n",
    "\n",
    "# Create the y-z projection.\n",
    "ax2 = fig.add_subplot(132);\n",
    "hyz, xyz, yyz = np.histogram2d(varr_z, varr_y, weights=varr_c, normed=False, bins=(1.0*(vol_max[2]-vol_min[2])/vox_size[2], 1.0*(vol_max[1]-vol_min[1])/vox_size[1]), range=[[vol_min[2],vol_max[2]],[vol_min[1],vol_max[1]]])\n",
    "extent2 = [yyz[0], yyz[-1], xyz[0], xyz[-1]]\n",
    "sp2 = ax2.imshow(hyz, extent=extent2, interpolation='none', aspect='auto', origin='lower', cmap='jet')\n",
    "ax2.set_xlabel(\"y (mm)\")\n",
    "ax2.set_ylabel(\"z (mm)\")\n",
    "ax2.set_xlim([vtrk_min[1],vtrk_max[1]])\n",
    "ax2.set_ylim([vtrk_min[2],vtrk_max[2]])\n",
    "cbp2 = plt.colorbar(sp2);\n",
    "cbp2.set_label('Energy (Q)');\n",
    "ax2.scatter(spath[0].Y,spath[0].Z,marker='x',s=200,color='red')\n",
    "ax2.scatter(spath[-1].Y,spath[-1].Z,marker='x',s=200,color='red')\n",
    "\n",
    "# Create the x-z projection.\n",
    "ax3 = fig.add_subplot(133);\n",
    "hxz, xxz, yxz = np.histogram2d(varr_z, varr_x, weights=varr_c, normed=False, bins=(1.0*(vol_max[2]-vol_min[2])/vox_size[2], 1.0*(vol_max[0]-vol_min[0])/vox_size[0]), range=[[vol_min[2],vol_max[2]],[vol_min[0],vol_max[0]]])\n",
    "extent3 = [yxz[0], yxz[-1], xxz[0], xxz[-1]]\n",
    "sp3 = ax3.imshow(hxz, extent=extent3, interpolation='none', aspect='auto', origin='lower', cmap='jet')\n",
    "ax3.set_xlabel(\"x (mm)\")\n",
    "ax3.set_ylabel(\"z (mm)\")\n",
    "ax3.set_xlim([vtrk_min[0],vtrk_max[0]])\n",
    "ax3.set_ylim([vtrk_min[2],vtrk_max[2]])\n",
    "cbp3 = plt.colorbar(sp3);\n",
    "cbp3.set_label('Energy (Q)');\n",
    "ax3.scatter(spath[0].X,spath[0].Z,marker='x',s=200,color='red')\n",
    "ax3.scatter(spath[-1].X,spath[-1].Z,marker='x',s=200,color='red')\n",
    "\n",
    "print(\"Extreme0 at ({0},{1},{2})\".format(spath[0].X,spath[0].Y,spath[0].Z))\n",
    "print(\"Extreme1 at ({0},{1},{2})\".format(spath[-1].X,spath[-1].Y,spath[-1].Z))"
   ]
  },
  {
   "cell_type": "code",
   "execution_count": null,
   "metadata": {
    "collapsed": true
   },
   "outputs": [],
   "source": []
  }
 ],
 "metadata": {
  "kernelspec": {
   "display_name": "Python 3",
   "language": "python",
   "name": "python3"
  },
  "language_info": {
   "codemirror_mode": {
    "name": "ipython",
    "version": 3
   },
   "file_extension": ".py",
   "mimetype": "text/x-python",
   "name": "python",
   "nbconvert_exporter": "python",
   "pygments_lexer": "ipython3",
   "version": "3.6.1"
  }
 },
 "nbformat": 4,
 "nbformat_minor": 2
}
