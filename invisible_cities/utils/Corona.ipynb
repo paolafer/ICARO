{
 "cells": [
  {
   "cell_type": "code",
   "execution_count": null,
   "metadata": {
    "collapsed": true
   },
   "outputs": [],
   "source": [
    "%matplotlib inline\n",
    "\n",
    "import os\n",
    "import sys\n",
    "import random\n",
    "import tables as tb\n",
    "import numpy  as np\n",
    "\n",
    "import matplotlib as mpl\n",
    "import matplotlib.pyplot as plt\n",
    "from matplotlib.patches import Ellipse\n",
    "from mpl_toolkits.mplot3d import Axes3D\n",
    "from collections import namedtuple\n",
    "\n",
    "import invisible_cities.reco.paolina_functions as plf\n",
    "import invisible_cities.reco.peak_functions as pf\n",
    "import invisible_cities.reco.xy_algorithms as xy\n",
    "from   invisible_cities.reco    .dst_functions   import load_xy_corrections\n",
    "from   invisible_cities.reco    .corrections     import LifetimeCorrection\n",
    "\n",
    "from   invisible_cities.database import load_db\n",
    "from   invisible_cities.core.configure         import configure\n",
    "from   invisible_cities.core.exceptions import SipmEmptyList\n",
    "from   invisible_cities.core.exceptions import ClusterEmptyList\n",
    "from   invisible_cities.core.exceptions import SipmZeroCharge\n",
    "\n",
    "from   invisible_cities.io.pmap_io             import load_pmaps\n",
    "from   invisible_cities.reco                   import pmaps_functions  as pmp\n",
    "from   invisible_cities.reco    .xy_algorithms import barycenter\n",
    "from   invisible_cities.reco    .xy_algorithms import corona\n",
    "from   invisible_cities.evm.event_model        import Hit, Cluster\n",
    "from   invisible_cities.types.ic_types         import xy\n",
    "from   invisible_cities.reco.tbl_functions     import get_event_numbers_and_timestamps_from_file_name\n",
    "from   invisible_cities.core.system_of_units_c import units\n",
    "\n",
    "from   invisible_cities.filters.s1s2_filter    import s1s2_filter\n",
    "from   invisible_cities.filters.s1s2_filter    import s2si_filter\n",
    "from   invisible_cities.filters.s1s2_filter    import S12Selector"
   ]
  },
  {
   "cell_type": "markdown",
   "metadata": {},
   "source": [
    "Reconstruction functions.\n",
    "\n",
    "This functionality will be included in the Penthesilea branch."
   ]
  },
  {
   "cell_type": "code",
   "execution_count": null,
   "metadata": {
    "collapsed": true
   },
   "outputs": [],
   "source": [
    "# Configuration information\n",
    "#tot_Emin = 250000; tot_Emax = 550000\n",
    "PATH_IN  = os.path.join('/Users/paola/Software/ic_data/dst_NEXT_v1_00_05_Tl_ACTIVE_0_0_7bar_pmaps_open_1000.h5')\n",
    "#cfile = '/Users/paola/NEXT/NEXT-WHITE/Topology/notebooks/s12_selector.conf'\n",
    "corrections   = \"/Users/paola/Software/ic_data/MCmap.h5\"\n",
    "XYcorrection  = load_xy_corrections(corrections)\n",
    "LT, u_LT      = 1100, 50\n",
    "e_lifetime = 1100.\n",
    "drift_v = 1. \n",
    "LTcorrection  = LifetimeCorrection(LT, u_LT)\n",
    "run_number    = -4529\n",
    "nmin, nmax    =    1, 100\n",
    "zmin, zmax    =    10, 522\n",
    "lmin, lmax    =    0, 600\n",
    "rmin, rmax    =    0, 250\n",
    "tot_charge = 150\n",
    "n_rebin = 1\n",
    "corona_opts   = {\n",
    "    \"Qthr\"          : 0.,\n",
    "    \"Qlm\"           : 10.,\n",
    "    \"lm_radius\"     : 20.,\n",
    "    \"new_lm_radius\" : 25.,\n",
    "    \"msipm\"         :  6,\n",
    "}\n",
    "\n",
    "# read the configuration file\n",
    "#conf = configure(['bar', cfile])\n",
    "#_s1s2_selector = S12Selector(**conf.as_dict)"
   ]
  },
  {
   "cell_type": "code",
   "execution_count": null,
   "metadata": {
    "collapsed": true
   },
   "outputs": [],
   "source": [
    "def rebin(arr, n_rebin, op=np.sum):\n",
    "    n_bins  = int(np.ceil(arr.size/n_rebin))\n",
    "#    return np.array([np.sum(arr[i*n_rebin:(i+1)*n_rebin]) for i in range(n_bins)])\n",
    "    resized = np.resize(arr, (n_bins, n_rebin))\n",
    "    return op(resized, axis=1)"
   ]
  },
  {
   "cell_type": "code",
   "execution_count": null,
   "metadata": {
    "collapsed": true
   },
   "outputs": [],
   "source": [
    "DataSiPM        = load_db.DataSiPM(run_number)\n",
    "data_xs         = DataSiPM.X.values\n",
    "data_ys         = DataSiPM.Y.values"
   ]
  },
  {
   "cell_type": "markdown",
   "metadata": {},
   "source": [
    "# \n",
    "Read the PMaps and construct the hit collection for a given event\n",
    "\n",
    "This will be performed in the future by Penthesilea."
   ]
  },
  {
   "cell_type": "code",
   "execution_count": null,
   "metadata": {},
   "outputs": [],
   "source": [
    "hitc_evt = []\n",
    "evtnum_hitc = []\n",
    "tbl_ri = 0\n",
    "tot_evts_sum = 0\n",
    "\n",
    "peak_energy = []\n",
    "corr_peak_energy = []\n",
    "### cath_energy_evt = [] ###\n",
    "\n",
    "\n",
    "S1s, S2s, S2Sis = load_pmaps(PATH_IN)\n",
    "event_numbers, timestamps = get_event_numbers_and_timestamps_from_file_name(PATH_IN)\n",
    "#ftbl = tb.open_file(PATH_IN,'r')\n",
    "tot_evts_sum += len(event_numbers)\n",
    "#for evt_number, evt_time in zip(event_numbers,timestamps):\n",
    "for evt_number in event_numbers:\n",
    "    hitc = []\n",
    "\n",
    "    s1   = S1s  .get(evt_number, {})\n",
    "    s2   = S2s  .get(evt_number, {})\n",
    "    s2si = S2Sis.get(evt_number, {})\n",
    "\n",
    "    if(not s1 or not s2 or not s2si): continue\n",
    "    if(len(s2.s2d) != len(s2si.s2sid)): continue\n",
    "    if (len(s1.s1d) != 1): continue\n",
    "    t, e = next(iter(s1.s1d.values()))\n",
    "    S1t  = t[np.argmax(e)]\n",
    "    #S2, Si = rebin_s2(S2, Si)\n",
    "\n",
    "    npeak = 0            \n",
    "    for peak_no, (t, E) in sorted(s2.s2d.items()):\n",
    "    #    print(\"Tot energy of peak {} = {}\".format(peak_no, np.sum(E)))\n",
    "        peak_energy.append(np.sum(E))\n",
    "        #Container for cathod energies for slices with hits\n",
    "        cath_energy = []\n",
    "        \n",
    "        si = s2si.s2sid[peak_no]\n",
    "        nslices = int(np.ceil(t.size/n_rebin))\n",
    "        \n",
    "        t = rebin(t, n_rebin, op=np.mean)\n",
    "        E = rebin(E, n_rebin)\n",
    "        \n",
    "        Q = {sipm: rebin(q, n_rebin) for sipm, q in si.items()}\n",
    "        Q = [{sipm:(qs[i] if i < len(qs) else 0) for sipm, qs in Q.items()} for i in range(nslices)]\n",
    "        e_left = 0\n",
    " #       for slice_no, (t_slice, e_slice) in enumerate(zip(t_peak, e_peak)):\n",
    "  #      print(\"Number of slices = {}\".format(nslices) )\n",
    "        for slice_no in range(nslices):\n",
    "  #          print(\"Slice no {}\".format(slice_no))\n",
    "            hits_slice = []\n",
    "            sipms, qsipm = list(map(list, zip(*Q[slice_no].items())))\n",
    "            if np.sum(qsipm) < tot_charge:\n",
    "  #              print(\"Too low charge in SiPMs: {} energy goes to next slice.\".format(E[slice_no]))\n",
    "                e_left += E[slice_no]\n",
    "            else:\n",
    "                xsipm = data_xs[sipms]\n",
    "                ysipm = data_ys[sipms]\n",
    "                possipm  = list(zip(xsipm, ysipm))\n",
    "                \n",
    "                try:\n",
    "                    clusters = corona(np.array(possipm), np.array(qsipm), **corona_opts)                  \n",
    "                except ClusterEmptyList:\n",
    "                    clusters = barycenter(possipm, qsipm)\n",
    "    #            print(\"Raw energy in slice {} = {}.\".format(slice_no, E[slice_no]+ e_left))\n",
    "\n",
    "                drift_time      = (t[slice_no] - S1t) / 1000.\n",
    "                z               = dft * drift_v \n",
    "                e_corrLT        = (E[slice_no] + e_left) * np.exp(drift_time/e_lifetime) \n",
    "                \n",
    "                qsum = sum(cls.Q for cls in clusters)\n",
    "                for cluster in clusters:\n",
    "                    c_energy = e_corrLT * cluster.Q / qsum * XYcorrection(cluster.X, cluster.Y).value[0]\n",
    "                    hit      = Hit(peak_no, cluster, z, c_energy)\n",
    "                    #print(\"hit at ({0},{1},{2};{3})\".format(hit.X,hit.Y,hit.Z,hit.E))\n",
    "                    #hitc.append(hit)\n",
    "                    hits_slice.append(hit)\n",
    "                cath_energy.append(E[slice_no] + e_left)\n",
    "                e_left = 0\n",
    "                hitc.append(hits_slice)\n",
    "        if(len(cath_energy) > 0 and e_left > 0):\n",
    "         #   print(\"We have some energy left: {}\".format(e_left))\n",
    "        #    hitc[-1].Q += e_left\n",
    "            cath_energy_last = cath_energy[-1]\n",
    "            cath_energy_last += e_left\n",
    "            cath_energy[-1] = cath_energy_last\n",
    "\n",
    "            ## redistribution of energy in the last slice with hits\n",
    "            last_slice = hitc[-1]\n",
    "            qsum_last = sum(h.Q for h in last_slice)\n",
    "            for hit in last_slice:\n",
    "                e_corrLT_last = cath_energy_last * np.exp(hit.Z/drift_v/e_lifetime)\n",
    "                hit.energy = e_corrLT_last * hit.Q / qsum_last * XYcorrection(hit.X, hit.Y).value[0]\n",
    " #           npeak += 1\n",
    "        corr_e_peak = 0.\n",
    "        for slc in hitc:\n",
    "            for hit in slc:\n",
    "                corr_e_peak += hit.energy\n",
    "        if corr_e_peak == 0.:\n",
    "            print(evt_number)\n",
    "        corr_peak_energy.append(corr_e_peak)\n",
    "        hitc_evt.append(hitc)\n",
    "###        cath_energy_evt.append(cath_energy) ###\n",
    "\n",
    "\n",
    "\n",
    "        #    evtnum_hitc.append(evt_number)\n",
    "#            print(\"***********************************\")\n",
    "            \n",
    "            # record MC information if available\n",
    "#            if(ftbl.__contains__('/MC')):\n",
    "#                hitcm = []\n",
    "#                mctbl = ftbl.root.MC.MCTracks\n",
    "#                while(tbl_ri < len(mctbl) and mctbl[tbl_ri]['event_indx'] != evt_number):\n",
    "#                    tbl_ri += 1\n",
    "#                while(tbl_ri < len(mctbl) and mctbl[tbl_ri]['event_indx'] == evt_number):\n",
    "#                    hpos = mctbl[tbl_ri]['hit_position']\n",
    "#                    henergy = mctbl[tbl_ri]['hit_energy']\n",
    "#                    hit = Hit(hpos[0],hpos[1],hpos[2],henergy)\n",
    "#                    hitcm.append(hit)\n",
    "#                    tbl_ri += 1\n",
    "#                hitc_mc.append(hitcm)\n",
    "\n",
    "#ftbl.close()\n",
    "#print(\"Produced hit collections for {0} events ({1} events in MC truth).\".format(len(hitc_evt),len(hitc_mc)))"
   ]
  },
  {
   "cell_type": "code",
   "execution_count": null,
   "metadata": {},
   "outputs": [],
   "source": [
    "fig = plt.figure(1)\n",
    "fig.set_figheight(5.0)\n",
    "fig.set_figwidth(15.0)\n",
    "\n",
    "ax1 = fig.add_subplot(121);\n",
    "plt.hist(corr_peak_energy,bins=4000,label='Corrected energy')\n",
    "lnd = plt.legend(loc=1)\n",
    "#plt.scatter(z_spec,e_spec,marker='.')\n",
    "#plt.ylim([100000,900000])\n",
    "plt.xlim([0,2000])\n",
    "plt.xlabel('Energy (pes)')\n",
    "plt.ylabel('Counts/bin')"
   ]
  },
  {
   "cell_type": "code",
   "execution_count": null,
   "metadata": {},
   "outputs": [],
   "source": [
    "print(peak_energy)"
   ]
  },
  {
   "cell_type": "code",
   "execution_count": null,
   "metadata": {},
   "outputs": [],
   "source": [
    "ax2 = fig.add_subplot(121);\n",
    "plt.hist(peak_energy,bins=40,label='Raw energy')\n",
    "lnd = plt.legend(loc=1)\n",
    "#plt.scatter(z_spec,e_spec,marker='.')\n",
    "#plt.xlim([20000,160000])\n",
    "#plt.ylim([0,20])\n",
    "plt.xlabel('Energy (pes)')\n",
    "plt.ylabel('Counts/bin')"
   ]
  },
  {
   "cell_type": "code",
   "execution_count": null,
   "metadata": {
    "collapsed": true
   },
   "outputs": [],
   "source": [
    "count = 0\n",
    "for hitc in hitc_evt:\n",
    "    print(\"*** Peak number {} ***\".format(count))\n",
    "    count += 1\n",
    "    for slc in hitc:\n",
    "        for hit in slc:\n",
    "            print(\"hit at ({0},{1},{2}; E = {3})\".format(hit.X,hit.Y,hit.Z,hit.E)) \n",
    "\n",
    "count = 0\n",
    "for cath_energy_c in cath_energy_evt:\n",
    "    print(\"*** Peak number {} ***\".format(count))\n",
    "    count += 1\n",
    "    sl = 0\n",
    "    e_peak = 0\n",
    "    for e in cath_energy_c:\n",
    "        print(\"Energy of slice {} = {}\".format(sl, e))\n",
    "        sl += 1\n",
    "        e_peak += e\n",
    "    print(\"Sum check = {}\".format(e_peak))"
   ]
  },
  {
   "cell_type": "code",
   "execution_count": null,
   "metadata": {
    "collapsed": true
   },
   "outputs": [],
   "source": [
    "e_spec = []; ecorr_spec = []; emc_spec = []; r_spec = []; z_spec = []\n",
    "for ee in range(len(hitc_evt)):\n",
    "    evt_E = sum([hh.E for hh in hitc_evt[ee]])\n",
    "    evt_X = sum([hh.X*hh.E for hh in hitc_evt[ee]])\n",
    "    evt_Y = sum([hh.Y*hh.E for hh in hitc_evt[ee]])\n",
    "    evt_Z = sum([hh.Z*hh.E for hh in hitc_evt[ee]])\n",
    "    if(len(hitc_evt[ee]) > 0):\n",
    "        evt_X /= evt_E\n",
    "        evt_Y /= evt_E\n",
    "        evt_Z /= evt_E\n",
    "    evt_R = np.sqrt(evt_X**2 + evt_Y**2)\n",
    "    evt_Emc = 0\n",
    "    if(ee < len(hitc_mc)): evt_Emc = sum([hh.E for hh in hitc_mc[ee]])\n",
    "    hr = np.array([np.sqrt(hh.X**2 + hh.Y**2) < 120. for hh in hitc_evt[ee]])\n",
    "    if(evt_E > 0): #hr.all()):\n",
    "        e_spec.append(evt_E)\n",
    "        r_spec.append(evt_R)\n",
    "    emc_spec.append(evt_Emc)\n",
    "    z_spec.append(evt_Z)\n",
    "\n",
    "e_spec = np.array(e_spec)\n",
    "\n",
    "fig = plt.figure(1)\n",
    "fig.set_figheight(5.0)\n",
    "fig.set_figwidth(15.0)\n",
    "\n",
    "ax1 = fig.add_subplot(121);\n",
    "plt.hist(e_spec,bins=40,label='Corrected energy')\n",
    "lnd = plt.legend(loc=1)\n",
    "#plt.scatter(z_spec,e_spec,marker='.')\n",
    "#plt.ylim([100000,900000])\n",
    "#plt.xlim([20000,160000])\n",
    "plt.xlabel('Energy (Q)')\n",
    "plt.ylabel('Counts/bin')\n",
    "\n",
    "ax2 = fig.add_subplot(122);\n",
    "plt.scatter(r_spec,e_spec,alpha=0.5,marker='.')\n",
    "lnd = plt.legend(loc=1)\n",
    "plt.xlabel('r (mm)')\n",
    "plt.ylabel('Energy (Q)')\n"
   ]
  },
  {
   "cell_type": "code",
   "execution_count": null,
   "metadata": {
    "collapsed": true
   },
   "outputs": [],
   "source": [
    "array[8,5,3]"
   ]
  },
  {
   "cell_type": "code",
   "execution_count": null,
   "metadata": {
    "collapsed": true
   },
   "outputs": [],
   "source": [
    "a.argmin()"
   ]
  },
  {
   "cell_type": "code",
   "execution_count": null,
   "metadata": {
    "collapsed": true
   },
   "outputs": [],
   "source": [
    "abs(a)"
   ]
  },
  {
   "cell_type": "code",
   "execution_count": null,
   "metadata": {
    "collapsed": true
   },
   "outputs": [],
   "source": [
    "b=a-3"
   ]
  },
  {
   "cell_type": "code",
   "execution_count": null,
   "metadata": {
    "collapsed": true
   },
   "outputs": [],
   "source": [
    "b"
   ]
  },
  {
   "cell_type": "code",
   "execution_count": null,
   "metadata": {
    "collapsed": true
   },
   "outputs": [],
   "source": [
    "abs(b)"
   ]
  },
  {
   "cell_type": "code",
   "execution_count": null,
   "metadata": {
    "collapsed": true
   },
   "outputs": [],
   "source": [
    "a.argmin()"
   ]
  },
  {
   "cell_type": "code",
   "execution_count": null,
   "metadata": {
    "collapsed": true
   },
   "outputs": [],
   "source": [
    "np.argmin(abs(a_x-3))"
   ]
  },
  {
   "cell_type": "code",
   "execution_count": null,
   "metadata": {
    "collapsed": true
   },
   "outputs": [],
   "source": [
    "a_x[450]"
   ]
  },
  {
   "cell_type": "code",
   "execution_count": null,
   "metadata": {
    "collapsed": true
   },
   "outputs": [],
   "source": []
  },
  {
   "cell_type": "code",
   "execution_count": null,
   "metadata": {
    "collapsed": true
   },
   "outputs": [],
   "source": []
  }
 ],
 "metadata": {
  "kernelspec": {
   "display_name": "Python 3",
   "language": "python",
   "name": "python3"
  },
  "language_info": {
   "codemirror_mode": {
    "name": "ipython",
    "version": 3
   },
   "file_extension": ".py",
   "mimetype": "text/x-python",
   "name": "python",
   "nbconvert_exporter": "python",
   "pygments_lexer": "ipython3",
   "version": "3.6.1"
  }
 },
 "nbformat": 4,
 "nbformat_minor": 2
}
