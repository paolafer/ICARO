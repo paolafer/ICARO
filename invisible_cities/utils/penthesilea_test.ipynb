{
 "cells": [
  {
   "cell_type": "markdown",
   "metadata": {},
   "source": [
    "# Testing Paolina on output of Penthesilea (run on NEW data)"
   ]
  },
  {
   "cell_type": "code",
   "execution_count": 1,
   "metadata": {
    "collapsed": false
   },
   "outputs": [],
   "source": [
    "%matplotlib inline\n",
    "\n",
    "import os\n",
    "import sys\n",
    "import random\n",
    "import tables as tb\n",
    "import numpy  as np\n",
    "\n",
    "import matplotlib.pyplot as plt\n",
    "from matplotlib.patches import Ellipse\n",
    "\n",
    "from   invisible_cities.reco.paolina_functions import \\\n",
    "            Voxel, build_voxels, calc_adj_matrix, construct_tracks, calc_dist_mat, construct_blobs\n",
    "from   invisible_cities.cities.penthesilea import Penthesilea, PENTHESILEA\n",
    "from   invisible_cities.database import load_db\n",
    "from   invisible_cities.core.system_of_units_c import units\n",
    "from   invisible_cities.reco.pmaps_functions import load_pmaps, integrate_charge, plot_s2si_map, select_si_slice\n",
    "from   invisible_cities.reco.tbl_functions     import get_event_numbers_and_timestamps\n",
    "from   invisible_cities.reco.xy_algorithms import barycenter, corona\n",
    "\n",
    "#from   icaro.core.kdst_functions import load_dst, event_rate, profile_and_fit, print_fit, chi2\n",
    "from invisible_cities.core.core_functions import in_range\n",
    "\n",
    "NSIPM = 1792"
   ]
  },
  {
   "cell_type": "code",
   "execution_count": 2,
   "metadata": {
    "collapsed": false
   },
   "outputs": [
    {
     "name": "stdout",
     "output_type": "stream",
     "text": [
      "COMPRESSION            => ZLIB4\n",
      "DRIFT_V                => 1.0\n",
      "FILE_IN                => /Users/jrenner/IFIC/IC-1/invisible_cities//database/NEW/3755/pmaps/pmaps.gdcsnext.000_3755.root.h5\n",
      "FILE_OUT               => /Users/jrenner/IFIC/IC-1/invisible_cities//database/test_data/NaTracks_3755.h5\n",
      "INFO                   => False\n",
      "NEVENTS                => 10000\n",
      "NPRINT                 => 10000\n",
      "PATH_IN                => /Users/jrenner/IFIC/IC-1/invisible_cities//database/NEW/3755/pmaps\n",
      "PATH_OUT               => /Users/jrenner/IFIC/IC-1/invisible_cities//database/test_data/\n",
      "RECO_ALGORITHM         => corona\n",
      "RUN_ALL                => False\n",
      "RUN_NUMBER             => 0\n",
      "S1_EMAX                => 10000\n",
      "S1_EMIN                => 0\n",
      "S1_ETHR                => 0.5\n",
      "S1_HMAX                => 1000\n",
      "S1_HMIN                => 0\n",
      "S1_LMAX                => 20\n",
      "S1_LMIN                => 4\n",
      "S2_EMAX                => 1000000\n",
      "S2_EMIN                => 1000\n",
      "S2_ETHR                => 1\n",
      "S2_HMAX                => 100000\n",
      "S2_HMIN                => 0\n",
      "S2_LMAX                => 1000\n",
      "S2_LMIN                => 1\n",
      "S2_NMAX                => 1\n",
      "S2_NSIPMMAX            => 1000\n",
      "S2_NSIPMMIN            => 0\n",
      "SKIP                   => 0\n",
      "VERBOSITY              => 20\n",
      "XY_CORR_FILENAME       => /Users/jrenner/IFIC/IC-1/invisible_cities//database/test_data/run3389.corr\n",
      "Z_CORR_FILENAME        => /Users/jrenner/IFIC/IC-1/invisible_cities//database/test_data/run3389.corr\n",
      "Reading /Users/jrenner/IFIC/IC-1/invisible_cities//database/NEW/3755/pmaps/pmaps.gdcsnext.000_3755.root.h5... OK\n",
      "\n",
      "Number of events in : 24\n",
      "Number of events out: 9\n",
      "Ratio               : 0.375\n",
      "\n",
      "run 24 evts in 0.20946979522705078 s, time/event = 0.00872790813446045\n"
     ]
    },
    {
     "data": {
      "text/plain": [
       "(10000, 24, 9)"
      ]
     },
     "execution_count": 2,
     "metadata": {},
     "output_type": "execute_result"
    }
   ],
   "source": [
    "conf_file_name = os.path.join(os.environ['ICDIR']) + 'config/penthesilea.conf'\n",
    "PENTHESILEA(['PENTHESILEA', '-c', conf_file_name])"
   ]
  },
  {
   "cell_type": "code",
   "execution_count": null,
   "metadata": {
    "collapsed": true
   },
   "outputs": [],
   "source": [
    "# read in the output (to be written)"
   ]
  },
  {
   "cell_type": "code",
   "execution_count": null,
   "metadata": {
    "collapsed": true
   },
   "outputs": [],
   "source": [
    "# perform Paolina analysis\n",
    "voxelc = paolina.build_voxels(hitc)\n",
    "adj_mat = paolina.calc_adj_matrix(voxelc)\n",
    "itmax,trks = paolina.construct_tracks(voxelc,adj_mat)\n",
    "dist_mat, spath = paolina.calc_dist_mat(trks[itmax])\n",
    "Eblob1, Eblob2 = paolina.construct_blobs(trks[itmax],dist_mat,spath)"
   ]
  }
 ],
 "metadata": {
  "kernelspec": {
   "display_name": "Python 3",
   "language": "python",
   "name": "python3"
  },
  "language_info": {
   "codemirror_mode": {
    "name": "ipython",
    "version": 3
   },
   "file_extension": ".py",
   "mimetype": "text/x-python",
   "name": "python",
   "nbconvert_exporter": "python",
   "pygments_lexer": "ipython3",
   "version": "3.5.2"
  }
 },
 "nbformat": 4,
 "nbformat_minor": 2
}
