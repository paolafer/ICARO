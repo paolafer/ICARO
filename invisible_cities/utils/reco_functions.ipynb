{
 "cells": [
  {
   "cell_type": "code",
   "execution_count": 37,
   "metadata": {},
   "outputs": [],
   "source": [
    "%matplotlib inline\n",
    "\n",
    "from __future__ import print_function\n",
    "import pylab\n",
    "import matplotlib.pyplot as plt\n",
    "import matplotlib.cm as cm\n",
    "from matplotlib.patches import Ellipse\n",
    "\n",
    "from   invisible_cities.database import load_db\n",
    "from   invisible_cities.core.system_of_units_c import units\n",
    "\n",
    "import random\n",
    "import tables as tb\n",
    "import numpy as np\n",
    "import tensorflow as tf\n",
    "\n",
    "NSIPM = 1792"
   ]
  },
  {
   "cell_type": "markdown",
   "metadata": {},
   "source": [
    "-----------------------------------------\n",
    "# Generation of test events\n",
    "\n",
    "*Note: the code below should be run within the IC environment because it uses the load_db module.*\n",
    "\n",
    "The following generates the specified number of \"test\" events.  Some number less than the target number may be generated due to the random positioning of points (some points may not fall over the SiPM plane and will therefore give no response and the event will be removed).  To use this:\n",
    "\n",
    "1.  Set the number of events and number of points per event in the cell just below\n",
    "2.  Run all following cells.  In the end one will be left with the following arrays indexed by event number:\n",
    "    X0: the true x-coordinates (array of length equal to number of points generated)\n",
    "    Y0: the true y-coordinates (array of length equal to number of points generated)\n",
    "    X: the SiPM x-coordinates (array of length equal to number of SiPMs with nonzero response)\n",
    "    Y: the SiPM y-coordinates (array of length equal to number of SiPMs with nonzero response)\n",
    "    Q: the SiPM responses (array of length equal to number of SiPMs with nonzero response)"
   ]
  },
  {
   "cell_type": "markdown",
   "metadata": {},
   "source": [
    "### Set the parameters here"
   ]
  },
  {
   "cell_type": "code",
   "execution_count": 2,
   "metadata": {},
   "outputs": [],
   "source": [
    "# parameters\n",
    "nevts = 10      # number of events to generate\n",
    "num_elpts = 1   # number of EL points per event"
   ]
  },
  {
   "cell_type": "markdown",
   "metadata": {},
   "source": [
    "### Run the following cells to generate the events"
   ]
  },
  {
   "cell_type": "code",
   "execution_count": 3,
   "metadata": {},
   "outputs": [],
   "source": [
    "# plot a 48x48 SiPM map\n",
    "# -- carried over from NEW_kr_diff_mc_train.ipynb\n",
    "def plot_test_event(l_ids,l_X,l_Y,l_Q,l_X0,l_Y0,sipm_xvals,sipm_yvals):\n",
    "    \"\"\"\n",
    "    Plots a SiPM map in the NEW Geometry\n",
    "    \"\"\"\n",
    "\n",
    "    # set up the figure\n",
    "    fig = plt.figure();\n",
    "    ax1 = fig.add_subplot(111);\n",
    "    fig.set_figheight(10.0)\n",
    "    fig.set_figwidth(10.0)\n",
    "    ax1.axis([-250, 250, -250, 250]);\n",
    "\n",
    "    # plot the SiPM pattern\n",
    "    for xx,yy,qq in zip(l_X,l_Y,l_Q):\n",
    "        r = Ellipse(xy=(xx, yy), width=2., height=2.);\n",
    "        r.set_facecolor('0');\n",
    "        r.set_alpha(qq);\n",
    "        ax1.add_artist(r);\n",
    "\n",
    "    # place a large blue circle for actual EL points\n",
    "    if(hasattr(l_X0, \"__len__\")):\n",
    "        for xx,yy in zip(l_X0,l_Y0):\n",
    "            mrk = Ellipse(xy=(xx,yy), width=4., height=4.)\n",
    "            mrk.set_facecolor('b')\n",
    "            ax1.add_artist(mrk)\n",
    "    else:\n",
    "        mrk = Ellipse(xy=(l_X0,l_Y0), width=4., height=4.)\n",
    "        mrk.set_facecolor('b')\n",
    "        ax1.add_artist(mrk)\n",
    "        \n",
    "    # place a large red circle for reconstructed points\n",
    "    #if(ept is not None):\n",
    "    #    xpt = ept[0]*fscale - fshift*fscale\n",
    "    #    ypt = ept[1]*fscale - fshift*fscale\n",
    "    #    mrk = Ellipse(xy=(xpt,ypt), width=2., height=2.);\n",
    "    #    mrk.set_facecolor('r');\n",
    "    #    ax1.add_artist(mrk);\n",
    "        \n",
    "    plt.xlabel(\"x (mm)\");\n",
    "    plt.ylabel(\"y (mm)\");"
   ]
  },
  {
   "cell_type": "code",
   "execution_count": 4,
   "metadata": {},
   "outputs": [],
   "source": [
    "M = [1.599, 1.599]\n",
    "c0 = [7.72708346764e-05, 0.000116782596518]\n",
    "c1 = [-1.69330613273e-07, 3.05115354927e-06]\n",
    "c2 = [-1.52173658255e-06, -7.00800605142e-06]\n",
    "c3 = [-2.4985972302e-07, 6.53907883449e-07]\n",
    "c4 = [1.12327204397e-07, 8.95230202525e-08]\n",
    "c5 = [-1.49353264606e-08, -2.27173290582e-08]\n",
    "c6 = [1.04614146487e-09, 2.00740799864e-09]\n",
    "c7 = [-4.19111362353e-11, -9.21915945523e-11]\n",
    "c8 = [9.12129133361e-13, 2.20534216312e-12]\n",
    "c9 = [-8.40089561697e-15, -2.1795164563e-14]\n",
    "\n",
    "# Maximum radial extent of parameterization\n",
    "rmax = 20.\n",
    "\n",
    "# Return the SiPM response for the specified time bin and radial distance.\n",
    "def sipm_par(tbin,r):\n",
    "\n",
    "    # Ensure the time bin value is valid.\n",
    "    if(tbin < 0 or tbin >= 2):\n",
    "        print(\"Invalid time bin in sipm_param: returning 0.0 ...\")\n",
    "        return 0.0\n",
    "\n",
    "    # Calculate the response based on the parametrization.\n",
    "    vpar = M[tbin]*(c0[tbin] + c1[tbin]*r + c2[tbin]*r**2 + c3[tbin]*r**3 +\n",
    "    c4[tbin]*r**4 + c5[tbin]*r**5 + c6[tbin]*r**6 + c7[tbin]*r**7 +\n",
    "    c8[tbin]*r**8 + c9[tbin]*r**9)\n",
    "\n",
    "    # Zero the response for radii too large.\n",
    "    if(hasattr(vpar, \"__len__\")):\n",
    "        ret = np.zeros(len(vpar)); iret = 0\n",
    "        for rv,pv in zip(r,vpar):\n",
    "            if(rv < rmax):\n",
    "                ret[iret] = pv\n",
    "            iret += 1\n",
    "        return ret\n",
    "    else:\n",
    "        if(r < rmax):\n",
    "            return vpar"
   ]
  },
  {
   "cell_type": "code",
   "execution_count": 5,
   "metadata": {
    "collapsed": true
   },
   "outputs": [],
   "source": [
    "# make arrays of (X,Y) coordinates for use in producing test events\n",
    "def make_xy(nevts, max_x, max_y, num_elpt):\n",
    "    \n",
    "    if num_elpt == 1: X = np.random.uniform(0,max_x,(nevts,num_elpt))\n",
    "    else:\n",
    "        X = np.empty((nevts,num_elpt),dtype=np.float32)\n",
    "        \n",
    "        # space x coordinates out so that the net can differentiate between pt1, pt2, etc\n",
    "        for pt in range(num_elpt): \n",
    "            X[:,pt] = np.random.uniform(pt*max_x/num_elpt,(pt+1)*max_x/num_elpt, nevts)\n",
    "  \n",
    "    Y = np.random.uniform(0,max_y,(nevts,num_elpt))\n",
    "    return np.array(X),np.array(Y)"
   ]
  },
  {
   "cell_type": "code",
   "execution_count": 12,
   "metadata": {
    "collapsed": true
   },
   "outputs": [],
   "source": [
    "def generate_sipm_responses(nevts, X, Y, X_sipm, Y_sipm):\n",
    "    sipm_res = np.zeros((nevts,NSIPM),dtype=np.float32) # SiPM responses\n",
    "    \n",
    "    for evt in range(nevts):\n",
    "        for x,y in zip(X[evt],Y[evt]):           # each event\n",
    "            xi = X_sipm; yi = Y_sipm\n",
    "            r = np.sqrt((xi - x)**2 + (yi - y)**2)\n",
    "            sipm_res[evt] += sipm_par(0,r) + sipm_par(1,r)\n",
    "\n",
    "        # Normalize to 1\n",
    "        norm = np.max(sipm_res[evt])\n",
    "        if(norm > 0):\n",
    "            sipm_res[evt] /= norm\n",
    "\n",
    "    # get the nonzero IDs and values for each event\n",
    "    _ids = []; _x = []; _y = []; _qs = []\n",
    "    for sevt in sipm_res:\n",
    "        idevt = np.nonzero(sevt)\n",
    "        xt = X_sipm[idevt]\n",
    "        yt = Y_sipm[idevt]\n",
    "        _ids.append(idevt)\n",
    "        _x.append(xt)\n",
    "        _y.append(yt)\n",
    "        _qs.append(sevt[idevt])\n",
    "    \n",
    "    _ids = np.array(_ids)\n",
    "    _x = np.array(_x)\n",
    "    _y = np.array(_y)\n",
    "    _qs = np.array(_qs)\n",
    "    return (_ids, _x, _y, _qs)"
   ]
  },
  {
   "cell_type": "code",
   "execution_count": 13,
   "metadata": {},
   "outputs": [],
   "source": [
    "# load the SiPM (x,y) values\n",
    "DataSensor = load_db.DataSiPM()\n",
    "xs = DataSensor.X.values\n",
    "ys = DataSensor.Y.values\n",
    "\n",
    "# create (x,y) lists\n",
    "_sipm_x = np.zeros(NSIPM)\n",
    "_sipm_y = np.zeros(NSIPM)\n",
    "for ID, x, y in zip(range(NSIPM), xs, ys):\n",
    "    _sipm_x[ID] = x\n",
    "    _sipm_y[ID] = y"
   ]
  },
  {
   "cell_type": "code",
   "execution_count": 16,
   "metadata": {},
   "outputs": [
    {
     "name": "stdout",
     "output_type": "stream",
     "text": [
      "Generated 6 events.\n"
     ]
    }
   ],
   "source": [
    "# create x-y points for the events\n",
    "X0,Y0 = make_xy(nevts,max(_sipm_x),max(_sipm_y),num_elpts)\n",
    "\n",
    "# generate the SiPM responses for the events\n",
    "(ids,X,Y,Q) = generate_sipm_responses(nevts,X0,Y0,_sipm_x,_sipm_y)\n",
    "\n",
    "# remove values for which no SiPM response was found\n",
    "remove_indx = []\n",
    "for ee in range(nevts):\n",
    "    if(len(Q[ee]) == 0):\n",
    "        remove_indx.append(ee)\n",
    "if(len(remove_indx) > 0):\n",
    "    ids = np.delete(ids,remove_indx)\n",
    "    X0 = np.delete(X0,remove_indx)\n",
    "    Y0 = np.delete(Y0,remove_indx)\n",
    "    X = np.delete(X,remove_indx)\n",
    "    Y = np.delete(Y,remove_indx)\n",
    "    Q = np.delete(Q,remove_indx)\n",
    "    \n",
    "print(\"Generated {0} events.\".format(len(Q)))"
   ]
  },
  {
   "cell_type": "markdown",
   "metadata": {},
   "source": [
    "### Plot one of the events"
   ]
  },
  {
   "cell_type": "code",
   "execution_count": 28,
   "metadata": {},
   "outputs": [
    {
     "data": {
      "image/png": "[encoded data removed]",
      "text/plain": [
       "<matplotlib.figure.Figure at 0x1162b36a0>"
      ]
     },
     "metadata": {},
     "output_type": "display_data"
    }
   ],
   "source": [
    "# plot a test event\n",
    "t_evt = 0\n",
    "plot_test_event(ids[t_evt],X[t_evt],Y[t_evt],Q[t_evt],X0[t_evt],Y0[t_evt],_sipm_x,_sipm_y)"
   ]
  },
  {
   "cell_type": "markdown",
   "metadata": {},
   "source": [
    "----------------------"
   ]
  },
  {
   "cell_type": "markdown",
   "metadata": {},
   "source": [
    "# Reconstruction functions\n",
    "\n",
    "The reconstruction function `reco_algorithm` we are aiming for is to be called by the `compute_xy_position` function of `HitCollectionCity`, shown below:\n",
    "\n",
    "```python\n",
    "    def compute_xy_position(self, si, slice_no):\n",
    "        si      = pmp.select_si_slice(si, slice_no)\n",
    "        IDs, Qs = map(list, zip(*si.items()))\n",
    "        xs, ys  = self.xs[IDs], self.ys[IDs]\n",
    "        return self.reco_algorithm(xs, ys, Qs)\n",
    "```\n",
    "\n",
    "The idea is to return a list of clusters with their (x,y) reconstructions.  Once written, it can be tested on the test events generated above."
   ]
  },
  {
   "cell_type": "code",
   "execution_count": 33,
   "metadata": {
    "collapsed": true
   },
   "outputs": [],
   "source": [
    "def barycenter(xs, ys, qs, default=np.nan):\n",
    "    q    = np.sum(qs)\n",
    "    n    = len(qs)\n",
    "    x    = np.average(xs, weights=qs)         if n and q>0 else default\n",
    "    y    = np.average(ys, weights=qs)         if n and q>0 else default\n",
    "    xvar = np.sum(qs * (xs - x)**2) / (q - 1) if n and q>0 else default\n",
    "    yvar = np.sum(qs * (ys - y)**2) / (q - 1) if n and q>0 else default\n",
    "\n",
    "    c    = Cluster(q, x, y, xvar**0.5, yvar**0.5, n)\n",
    "    return [c]"
   ]
  },
  {
   "cell_type": "code",
   "execution_count": 34,
   "metadata": {},
   "outputs": [],
   "source": [
    "def reco_algorithm(xs, ys, Qs, rmax=30*units.mm, T=3.5*units.pes):\n",
    "    \"\"\"\n",
    "    rmax is the maximum radius of a cluster\n",
    "    T is the threshold for local maxima (this kwarg may be unnecessary)\n",
    "    returns a list of Clusters\n",
    "    \"\"\"\n",
    "    c = []\n",
    "    xs = np.copy(xs)\n",
    "    ys = np.copy(ys)\n",
    "    qs = np.copy(Qs)\n",
    "\n",
    "    # While there are more local maxima\n",
    "    while len(qs) > 0:\n",
    "        i_max = np.argmax(qs)    # SiPM with largest Q\n",
    "        if qs[i_max] < T: break  # largest Q remaining is negligible\n",
    "\n",
    "        # get SiPMs within rmax of SiPM with largest Q\n",
    "        dists = np.sqrt((xs - xs[i_max]) ** 2 + (ys - ys[i_max]) ** 2)\n",
    "        cluster = np.where(dists < rmax)[0]\n",
    "\n",
    "        # get barycenter of this cluster\n",
    "        c.append(barycenter(xs[cluster], ys[cluster], qs[cluster]))\n",
    "\n",
    "        xs = np.delete(xs, cluster) # delete the SiPMs\n",
    "        ys = np.delete(ys, cluster) # contributing to\n",
    "        qs = np.delete(qs, cluster) # this cluster\n",
    "\n",
    "    return c\n"
   ]
  },
  {
   "cell_type": "code",
   "execution_count": 35,
   "metadata": {},
   "outputs": [
    {
     "ename": "NameError",
     "evalue": "name 'Cluster' is not defined",
     "output_type": "error",
     "traceback": [
      "\u001b[0;31m---------------------------------------------------------------------------\u001b[0m",
      "\u001b[0;31mNameError\u001b[0m                                 Traceback (most recent call last)",
      "\u001b[0;32m<ipython-input-35-eeac12a6d81e>\u001b[0m in \u001b[0;36m<module>\u001b[0;34m()\u001b[0m\n\u001b[0;32m----> 1\u001b[0;31m \u001b[0mcc\u001b[0m \u001b[0;34m=\u001b[0m \u001b[0mreco_algorithm\u001b[0m\u001b[0;34m(\u001b[0m\u001b[0mX\u001b[0m\u001b[0;34m[\u001b[0m\u001b[0mt_evt\u001b[0m\u001b[0;34m]\u001b[0m\u001b[0;34m,\u001b[0m\u001b[0mY\u001b[0m\u001b[0;34m[\u001b[0m\u001b[0mt_evt\u001b[0m\u001b[0;34m]\u001b[0m\u001b[0;34m,\u001b[0m\u001b[0mQ\u001b[0m\u001b[0;34m[\u001b[0m\u001b[0mt_evt\u001b[0m\u001b[0;34m]\u001b[0m\u001b[0;34m*\u001b[0m\u001b[0;36m100\u001b[0m\u001b[0;34m)\u001b[0m\u001b[0;34m\u001b[0m\u001b[0m\n\u001b[0m",
      "\u001b[0;32m<ipython-input-34-8a0091526dc5>\u001b[0m in \u001b[0;36mreco_algorithm\u001b[0;34m(xs, ys, Qs, rmax, T)\u001b[0m\n\u001b[1;32m     20\u001b[0m \u001b[0;34m\u001b[0m\u001b[0m\n\u001b[1;32m     21\u001b[0m         \u001b[0;31m# get barycenter of this cluster\u001b[0m\u001b[0;34m\u001b[0m\u001b[0;34m\u001b[0m\u001b[0m\n\u001b[0;32m---> 22\u001b[0;31m         \u001b[0mc\u001b[0m\u001b[0;34m.\u001b[0m\u001b[0mappend\u001b[0m\u001b[0;34m(\u001b[0m\u001b[0mbarycenter\u001b[0m\u001b[0;34m(\u001b[0m\u001b[0mxs\u001b[0m\u001b[0;34m[\u001b[0m\u001b[0mcluster\u001b[0m\u001b[0;34m]\u001b[0m\u001b[0;34m,\u001b[0m \u001b[0mys\u001b[0m\u001b[0;34m[\u001b[0m\u001b[0mcluster\u001b[0m\u001b[0;34m]\u001b[0m\u001b[0;34m,\u001b[0m \u001b[0mqs\u001b[0m\u001b[0;34m[\u001b[0m\u001b[0mcluster\u001b[0m\u001b[0;34m]\u001b[0m\u001b[0;34m)\u001b[0m\u001b[0;34m)\u001b[0m\u001b[0;34m\u001b[0m\u001b[0m\n\u001b[0m\u001b[1;32m     23\u001b[0m \u001b[0;34m\u001b[0m\u001b[0m\n\u001b[1;32m     24\u001b[0m         \u001b[0mxs\u001b[0m \u001b[0;34m=\u001b[0m \u001b[0mnp\u001b[0m\u001b[0;34m.\u001b[0m\u001b[0mdelete\u001b[0m\u001b[0;34m(\u001b[0m\u001b[0mxs\u001b[0m\u001b[0;34m,\u001b[0m \u001b[0mcluster\u001b[0m\u001b[0;34m)\u001b[0m \u001b[0;31m# delete the SiPMs\u001b[0m\u001b[0;34m\u001b[0m\u001b[0m\n",
      "\u001b[0;32m<ipython-input-33-399654be4b5f>\u001b[0m in \u001b[0;36mbarycenter\u001b[0;34m(xs, ys, qs, default)\u001b[0m\n\u001b[1;32m      7\u001b[0m     \u001b[0myvar\u001b[0m \u001b[0;34m=\u001b[0m \u001b[0mnp\u001b[0m\u001b[0;34m.\u001b[0m\u001b[0msum\u001b[0m\u001b[0;34m(\u001b[0m\u001b[0mqs\u001b[0m \u001b[0;34m*\u001b[0m \u001b[0;34m(\u001b[0m\u001b[0mys\u001b[0m \u001b[0;34m-\u001b[0m \u001b[0my\u001b[0m\u001b[0;34m)\u001b[0m\u001b[0;34m**\u001b[0m\u001b[0;36m2\u001b[0m\u001b[0;34m)\u001b[0m \u001b[0;34m/\u001b[0m \u001b[0;34m(\u001b[0m\u001b[0mq\u001b[0m \u001b[0;34m-\u001b[0m \u001b[0;36m1\u001b[0m\u001b[0;34m)\u001b[0m \u001b[0;32mif\u001b[0m \u001b[0mn\u001b[0m \u001b[0;32mand\u001b[0m \u001b[0mq\u001b[0m\u001b[0;34m>\u001b[0m\u001b[0;36m0\u001b[0m \u001b[0;32melse\u001b[0m \u001b[0mdefault\u001b[0m\u001b[0;34m\u001b[0m\u001b[0m\n\u001b[1;32m      8\u001b[0m \u001b[0;34m\u001b[0m\u001b[0m\n\u001b[0;32m----> 9\u001b[0;31m     \u001b[0mc\u001b[0m    \u001b[0;34m=\u001b[0m \u001b[0mCluster\u001b[0m\u001b[0;34m(\u001b[0m\u001b[0mq\u001b[0m\u001b[0;34m,\u001b[0m \u001b[0mx\u001b[0m\u001b[0;34m,\u001b[0m \u001b[0my\u001b[0m\u001b[0;34m,\u001b[0m \u001b[0mxvar\u001b[0m\u001b[0;34m**\u001b[0m\u001b[0;36m0.5\u001b[0m\u001b[0;34m,\u001b[0m \u001b[0myvar\u001b[0m\u001b[0;34m**\u001b[0m\u001b[0;36m0.5\u001b[0m\u001b[0;34m,\u001b[0m \u001b[0mn\u001b[0m\u001b[0;34m)\u001b[0m\u001b[0;34m\u001b[0m\u001b[0m\n\u001b[0m\u001b[1;32m     10\u001b[0m     \u001b[0;32mreturn\u001b[0m \u001b[0;34m[\u001b[0m\u001b[0mc\u001b[0m\u001b[0;34m]\u001b[0m\u001b[0;34m\u001b[0m\u001b[0m\n",
      "\u001b[0;31mNameError\u001b[0m: name 'Cluster' is not defined"
     ]
    }
   ],
   "source": [
    "cc = reco_algorithm(X[t_evt],Y[t_evt],Q[t_evt]*100)\n"
   ]
  },
  {
   "cell_type": "markdown",
   "metadata": {},
   "source": [
    "-----------------"
   ]
  },
  {
   "cell_type": "code",
   "execution_count": 31,
   "metadata": {},
   "outputs": [
    {
     "name": "stdout",
     "output_type": "stream",
     "text": [
      "[]\n"
     ]
    }
   ],
   "source": [
    "print(cc)"
   ]
  },
  {
   "cell_type": "code",
   "execution_count": null,
   "metadata": {
    "collapsed": true
   },
   "outputs": [],
   "source": []
  }
 ],
 "metadata": {
  "anaconda-cloud": {},
  "kernelspec": {
   "display_name": "Python 3",
   "language": "python",
   "name": "python3"
  },
  "language_info": {
   "codemirror_mode": {
    "name": "ipython",
    "version": 3
   },
   "file_extension": ".py",
   "mimetype": "text/x-python",
   "name": "python",
   "nbconvert_exporter": "python",
   "pygments_lexer": "ipython3",
   "version": "3.6.1"
  }
 },
 "nbformat": 4,
 "nbformat_minor": 1
}
